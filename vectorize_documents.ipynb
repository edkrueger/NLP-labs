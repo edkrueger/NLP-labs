{
 "cells": [
  {
   "cell_type": "markdown",
   "metadata": {},
   "source": [
    "# NLP with SKL"
   ]
  },
  {
   "cell_type": "markdown",
   "metadata": {},
   "source": [
    "## Vectorize Documents (without scikit-learn)"
   ]
  },
  {
   "cell_type": "code",
   "execution_count": 1,
   "metadata": {},
   "outputs": [],
   "source": [
    "import re"
   ]
  },
  {
   "cell_type": "markdown",
   "metadata": {},
   "source": [
    "### Format Documents"
   ]
  },
  {
   "cell_type": "code",
   "execution_count": 2,
   "metadata": {},
   "outputs": [
    {
     "data": {
      "text/plain": [
       "['the scikit-learn, is great',\n",
       " 'much better API for; the NLP than the spark MLlib',\n",
       " 'we are+ learning NLP in the sci-kit',\n",
       " 'is my... punctuation, is. terrible;']"
      ]
     },
     "execution_count": 2,
     "metadata": {},
     "output_type": "execute_result"
    }
   ],
   "source": [
    "# make some documents to work with\n",
    "\n",
    "X = [\n",
    "    'the scikit-learn, is great',\n",
    "    'much better API for; the NLP than the spark MLlib',\n",
    "    'we are+ learning NLP in the sci-kit',\n",
    "    'is my... punctuation, is. terrible;'\n",
    "]\n",
    "\n",
    "X"
   ]
  },
  {
   "cell_type": "code",
   "execution_count": 3,
   "metadata": {},
   "outputs": [],
   "source": [
    "# compile scikit-learn like formatter regex\n",
    "\n",
    "formatter_pattern = re.compile(r'[^\\w\\s\\']')"
   ]
  },
  {
   "cell_type": "code",
   "execution_count": 4,
   "metadata": {},
   "outputs": [
    {
     "data": {
      "text/plain": [
       "['the scikitlearn is great',\n",
       " 'much better api for the nlp than the spark mllib',\n",
       " 'we are learning nlp in the scikit',\n",
       " 'is my punctuation is terrible']"
      ]
     },
     "execution_count": 4,
     "metadata": {},
     "output_type": "execute_result"
    }
   ],
   "source": [
    "# show scikit-learn like formatter in action\n",
    "\n",
    "X_formatted = [re.sub(formatter_pattern, '', document).lower() for document in X]\n",
    "X_formatted"
   ]
  },
  {
   "cell_type": "markdown",
   "metadata": {},
   "source": [
    "### Tokenize Formatted Documents"
   ]
  },
  {
   "cell_type": "code",
   "execution_count": 5,
   "metadata": {},
   "outputs": [],
   "source": [
    "# compile scikit-learn like tokenizer regex\n",
    "\n",
    "tokenizer_pattern = re.compile(r'(?u)\\b\\w\\w+\\b')"
   ]
  },
  {
   "cell_type": "code",
   "execution_count": 6,
   "metadata": {},
   "outputs": [
    {
     "data": {
      "text/plain": [
       "[['the', 'scikitlearn', 'is', 'great'],\n",
       " ['much',\n",
       "  'better',\n",
       "  'api',\n",
       "  'for',\n",
       "  'the',\n",
       "  'nlp',\n",
       "  'than',\n",
       "  'the',\n",
       "  'spark',\n",
       "  'mllib'],\n",
       " ['we', 'are', 'learning', 'nlp', 'in', 'the', 'scikit'],\n",
       " ['is', 'my', 'punctuation', 'is', 'terrible']]"
      ]
     },
     "execution_count": 6,
     "metadata": {},
     "output_type": "execute_result"
    }
   ],
   "source": [
    "# scikit-learn like show tokenization of formatted documents\n",
    "\n",
    "X_tokenized = [tokenizer_pattern.findall(document) for document in X_formatted]\n",
    "X_tokenized"
   ]
  },
  {
   "cell_type": "markdown",
   "metadata": {},
   "source": [
    "### Hash tokenized documents"
   ]
  },
  {
   "cell_type": "code",
   "execution_count": 7,
   "metadata": {},
   "outputs": [],
   "source": [
    "# make a function to hash documents\n",
    "\n",
    "def hash_tokenized(tokenized_documents):\n",
    "    used_token = []\n",
    "    vocabulary = {}\n",
    "    idx = 0\n",
    "\n",
    "    hashed_docuements = []\n",
    "\n",
    "    for document in tokenized_documents:\n",
    "\n",
    "        hashed_document = []\n",
    "\n",
    "        for token in document:\n",
    "\n",
    "            if token in vocabulary:\n",
    "                hashed_value = vocabulary[token]\n",
    "            else:\n",
    "                hashed_value = idx\n",
    "                idx += 1\n",
    "                vocabulary[token] = hashed_value\n",
    "\n",
    "            hashed_document.append(hashed_value)\n",
    "\n",
    "        hashed_docuements.append(hashed_document)\n",
    "        \n",
    "    max_idx = idx - 1\n",
    "\n",
    "    return hashed_docuements, vocabulary, max_idx"
   ]
  },
  {
   "cell_type": "code",
   "execution_count": 8,
   "metadata": {},
   "outputs": [],
   "source": [
    "# hash the tokenized documents\n",
    "X_hashed, hashing_vocabulary, max_idx = hash_tokenized(X_tokenized)"
   ]
  },
  {
   "cell_type": "code",
   "execution_count": 9,
   "metadata": {},
   "outputs": [
    {
     "data": {
      "text/plain": [
       "[[0, 1, 2, 3],\n",
       " [4, 5, 6, 7, 0, 8, 9, 0, 10, 11],\n",
       " [12, 13, 14, 8, 15, 0, 16],\n",
       " [2, 17, 18, 2, 19]]"
      ]
     },
     "execution_count": 9,
     "metadata": {},
     "output_type": "execute_result"
    }
   ],
   "source": [
    "X_hashed"
   ]
  },
  {
   "cell_type": "code",
   "execution_count": 10,
   "metadata": {},
   "outputs": [
    {
     "data": {
      "text/plain": [
       "{'the': 0,\n",
       " 'scikitlearn': 1,\n",
       " 'is': 2,\n",
       " 'great': 3,\n",
       " 'much': 4,\n",
       " 'better': 5,\n",
       " 'api': 6,\n",
       " 'for': 7,\n",
       " 'nlp': 8,\n",
       " 'than': 9,\n",
       " 'spark': 10,\n",
       " 'mllib': 11,\n",
       " 'we': 12,\n",
       " 'are': 13,\n",
       " 'learning': 14,\n",
       " 'in': 15,\n",
       " 'scikit': 16,\n",
       " 'my': 17,\n",
       " 'punctuation': 18,\n",
       " 'terrible': 19}"
      ]
     },
     "execution_count": 10,
     "metadata": {},
     "output_type": "execute_result"
    }
   ],
   "source": [
    "hashing_vocabulary"
   ]
  },
  {
   "cell_type": "code",
   "execution_count": 11,
   "metadata": {},
   "outputs": [
    {
     "data": {
      "text/plain": [
       "19"
      ]
     },
     "execution_count": 11,
     "metadata": {},
     "output_type": "execute_result"
    }
   ],
   "source": [
    "max_idx"
   ]
  },
  {
   "cell_type": "markdown",
   "metadata": {},
   "source": [
    "### Convert hashed documents to maxtix"
   ]
  },
  {
   "cell_type": "code",
   "execution_count": 12,
   "metadata": {},
   "outputs": [],
   "source": [
    "def hashed_to_matrix(hashed_documents, max_idx):\n",
    "    \n",
    "    matrix = []\n",
    "    \n",
    "    for hashed_document in hashed_documents:\n",
    "        \n",
    "        row = [0 for _ in range(0, max_idx + 1)]\n",
    "        \n",
    "        for hashed_token in hashed_document:\n",
    "            \n",
    "            row[hashed_token] += 1\n",
    "        \n",
    "        matrix.append(row)\n",
    "    \n",
    "    return matrix"
   ]
  },
  {
   "cell_type": "code",
   "execution_count": 13,
   "metadata": {},
   "outputs": [
    {
     "data": {
      "text/plain": [
       "[[1, 1, 1, 1, 0, 0, 0, 0, 0, 0, 0, 0, 0, 0, 0, 0, 0, 0, 0, 0],\n",
       " [2, 0, 0, 0, 1, 1, 1, 1, 1, 1, 1, 1, 0, 0, 0, 0, 0, 0, 0, 0],\n",
       " [1, 0, 0, 0, 0, 0, 0, 0, 1, 0, 0, 0, 1, 1, 1, 1, 1, 0, 0, 0],\n",
       " [0, 0, 2, 0, 0, 0, 0, 0, 0, 0, 0, 0, 0, 0, 0, 0, 0, 1, 1, 1]]"
      ]
     },
     "execution_count": 13,
     "metadata": {},
     "output_type": "execute_result"
    }
   ],
   "source": [
    "hashed_to_matrix(X_hashed, max_idx)"
   ]
  },
  {
   "cell_type": "code",
   "execution_count": 14,
   "metadata": {},
   "outputs": [
    {
     "data": {
      "text/plain": [
       "{'the': 0,\n",
       " 'scikitlearn': 1,\n",
       " 'is': 2,\n",
       " 'great': 3,\n",
       " 'much': 4,\n",
       " 'better': 5,\n",
       " 'api': 6,\n",
       " 'for': 7,\n",
       " 'nlp': 8,\n",
       " 'than': 9,\n",
       " 'spark': 10,\n",
       " 'mllib': 11,\n",
       " 'we': 12,\n",
       " 'are': 13,\n",
       " 'learning': 14,\n",
       " 'in': 15,\n",
       " 'scikit': 16,\n",
       " 'my': 17,\n",
       " 'punctuation': 18,\n",
       " 'terrible': 19}"
      ]
     },
     "execution_count": 14,
     "metadata": {},
     "output_type": "execute_result"
    }
   ],
   "source": [
    "hashing_vocabulary"
   ]
  }
 ],
 "metadata": {
  "kernelspec": {
   "display_name": "Python 3",
   "language": "python",
   "name": "python3"
  },
  "language_info": {
   "codemirror_mode": {
    "name": "ipython",
    "version": 3
   },
   "file_extension": ".py",
   "mimetype": "text/x-python",
   "name": "python",
   "nbconvert_exporter": "python",
   "pygments_lexer": "ipython3",
   "version": "3.7.1"
  }
 },
 "nbformat": 4,
 "nbformat_minor": 2
}
